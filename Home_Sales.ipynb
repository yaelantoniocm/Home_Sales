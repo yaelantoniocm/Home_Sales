{
 "cells": [
  {
   "cell_type": "code",
   "execution_count": 1,
   "metadata": {
    "colab": {
     "base_uri": "https://localhost:8080/"
    },
    "id": "a_KW73O2e3dw",
    "outputId": "fa5fd2b3-e2de-491b-ee1c-405317ba7ebc"
   },
   "outputs": [],
   "source": [
    "# Import findspark and initialize. \n",
    "import findspark\n",
    "findspark.init()"
   ]
  },
  {
   "cell_type": "code",
   "execution_count": 2,
   "metadata": {
    "id": "2XbWNf1Te5fM"
   },
   "outputs": [],
   "source": [
    "# Import packages\n",
    "from pyspark.sql import SparkSession\n",
    "import time\n",
    "\n",
    "# Create a SparkSession\n",
    "spark = SparkSession.builder.appName(\"SparkSQL\").getOrCreate()"
   ]
  },
  {
   "cell_type": "code",
   "execution_count": 3,
   "metadata": {
    "colab": {
     "base_uri": "https://localhost:8080/"
    },
    "id": "wOJqxG_RPSwp",
    "outputId": "7857ef9f-5b04-405d-f5aa-e535dfe7870c"
   },
   "outputs": [],
   "source": [
    "# 1. Read in the AWS S3 bucket into a DataFrame.\n",
    "from pyspark import SparkFiles\n",
    "url = \"https://2u-data-curriculum-team.s3.amazonaws.com/dataviz-classroom/v1.2/22-big-data/home_sales_revised.csv\""
   ]
  },
  {
   "cell_type": "code",
   "execution_count": 5,
   "metadata": {
    "id": "RoljcJ7WPpnm"
   },
   "outputs": [
    {
     "name": "stdout",
     "output_type": "stream",
     "text": [
      "+--------------------+----------+----------+------+--------+---------+-----------+--------+------+----------+----+\n",
      "|                  id|      date|date_built| price|bedrooms|bathrooms|sqft_living|sqft_lot|floors|waterfront|view|\n",
      "+--------------------+----------+----------+------+--------+---------+-----------+--------+------+----------+----+\n",
      "|f8a53099-ba1c-47d...|2022-04-08|      2016|936923|       4|        3|       3167|   11733|     2|         1|  76|\n",
      "|7530a2d8-1ae3-451...|2021-06-13|      2013|379628|       2|        2|       2235|   14384|     1|         0|  23|\n",
      "|43de979c-0bf0-4c9...|2019-04-12|      2014|417866|       2|        2|       2127|   10575|     2|         0|   0|\n",
      "|b672c137-b88c-48b...|2019-10-16|      2016|239895|       2|        2|       1631|   11149|     2|         0|   0|\n",
      "|e0726d4d-d595-407...|2022-01-08|      2017|424418|       3|        2|       2249|   13878|     2|         0|   4|\n",
      "|5aa00529-0533-46b...|2019-01-30|      2017|218712|       2|        3|       1965|   14375|     2|         0|   7|\n",
      "|131492a1-72e2-4a8...|2020-02-08|      2017|419199|       2|        3|       2062|    8876|     2|         0|   6|\n",
      "|8d54a71b-c520-44e...|2019-07-21|      2010|323956|       2|        3|       1506|   11816|     1|         0|  25|\n",
      "|e81aacfe-17fe-46b...|2020-06-16|      2016|181925|       3|        3|       2137|   11709|     2|         0|  22|\n",
      "|2ed8d509-7372-46d...|2021-08-06|      2015|258710|       3|        3|       1918|    9666|     1|         0|  25|\n",
      "+--------------------+----------+----------+------+--------+---------+-----------+--------+------+----------+----+\n",
      "only showing top 10 rows\n",
      "\n"
     ]
    }
   ],
   "source": [
    "# 2. Create a temporary view of the DataFrame.\n",
    "df = spark.read.csv(\"./home_sales_revised.csv\", sep=\",\", header=True, ignoreLeadingWhiteSpace=True, ignoreTrailingWhiteSpace=True)\n",
    "df.createOrReplaceTempView('home_sales')\n",
    "df.show(10)"
   ]
  },
  {
   "cell_type": "code",
   "execution_count": 12,
   "metadata": {
    "colab": {
     "base_uri": "https://localhost:8080/"
    },
    "id": "L6fkwOeOmqvq",
    "outputId": "bdded620-79c4-488d-c7a5-91c6799c419e"
   },
   "outputs": [
    {
     "name": "stdout",
     "output_type": "stream",
     "text": [
      "+----+-------------+\n",
      "|year|average_price|\n",
      "+----+-------------+\n",
      "|2019|   300,263.70|\n",
      "|2020|   298,353.78|\n",
      "|2021|   301,819.44|\n",
      "|2022|   296,363.88|\n",
      "+----+-------------+\n",
      "\n"
     ]
    }
   ],
   "source": [
    "# 3. What is the average price for a four bedroom house sold in each year rounded to two decimal places?\n",
    "from pyspark.sql.functions import year, avg, format_number\n",
    "\n",
    "# Filter by four-bedroom houses\n",
    "four_bedroom_houses = df.filter(df['bedrooms'] == 4)\n",
    "\n",
    "# Extract the year of the sale date and calculate the average price per year\n",
    "average_price_per_year = four_bedroom_houses.groupBy(year('date').alias('year')) \\\n",
    "                            .agg(format_number(avg('price'), 2).alias('average_price')) \\\n",
    "                            .orderBy('year')\n",
    "# Show results\n",
    "average_price_per_year.show(15) "
   ]
  },
  {
   "cell_type": "code",
   "execution_count": 13,
   "metadata": {
    "colab": {
     "base_uri": "https://localhost:8080/"
    },
    "id": "l8p_tUS8h8it",
    "outputId": "65806e5f-6262-41c0-ff65-5107464e5c4d"
   },
   "outputs": [
    {
     "name": "stdout",
     "output_type": "stream",
     "text": [
      "+----------+-------------+\n",
      "|date_built|average_price|\n",
      "+----------+-------------+\n",
      "|      2010|   292,859.62|\n",
      "|      2011|   291,117.47|\n",
      "|      2012|   293,683.19|\n",
      "|      2013|   295,962.27|\n",
      "|      2014|   290,852.27|\n",
      "|      2015|   288,770.30|\n",
      "|      2016|   290,555.07|\n",
      "|      2017|   292,676.79|\n",
      "+----------+-------------+\n",
      "\n"
     ]
    }
   ],
   "source": [
    "# 4. What is the average price of a home for each year the home was built that have 3 bedrooms and 3 bathrooms rounded to two decimal places?\n",
    "# Filter by three-bedroom and three-bathroom houses\n",
    "three_bedroom_and_bathroom_houses = df.filter((df['bedrooms'] == 3) & (df['bathrooms'] == 3))\n",
    "\n",
    "# Group by the year the home was built and calculate the average price\n",
    "average_price_per_build_year = three_bedroom_and_bathroom_houses.groupBy('date_built') \\\n",
    "                            .agg(format_number(round(mean('price'), 2), 2).alias('average_price')) \\\n",
    "                            .orderBy('date_built')\n",
    "# Show results\n",
    "average_price_per_build_year.show()"
   ]
  },
  {
   "cell_type": "code",
   "execution_count": 14,
   "metadata": {
    "colab": {
     "base_uri": "https://localhost:8080/"
    },
    "id": "Y-Eytz64liDU",
    "outputId": "17119810-56ad-40c3-de5e-c3db57e43bcc"
   },
   "outputs": [
    {
     "name": "stdout",
     "output_type": "stream",
     "text": [
      "+----------+-------------+\n",
      "|date_built|average_price|\n",
      "+----------+-------------+\n",
      "|      2010|   285,010.22|\n",
      "|      2011|   276,553.81|\n",
      "|      2012|   307,539.97|\n",
      "|      2013|   303,676.79|\n",
      "|      2014|   298,264.72|\n",
      "|      2015|   297,609.97|\n",
      "|      2016|   293,965.10|\n",
      "|      2017|   280,317.58|\n",
      "+----------+-------------+\n",
      "\n"
     ]
    }
   ],
   "source": [
    "#  5. What is the average price of a home for each year built that have 3 bedrooms, 3 bathrooms, with two floors,\n",
    "# and are greater than or equal to 2,000 square feet rounded to two decimal places?\n",
    "# Filtrar por casas de tres dormitorios, tres baños, dos pisos y mayor o igual a 2000 pies cuadrados\n",
    "filtered_houses = df.filter(\n",
    "    (df['bedrooms'] == 3) & \n",
    "    (df['bathrooms'] == 3) & \n",
    "    (df['floors'] == 2) & \n",
    "    (df['sqft_living'] >= 2000)\n",
    ")\n",
    "\n",
    "# Group by the year the home was built and calculate the average price\n",
    "average_price_per_year_construction = filtered_houses.groupBy('date_built') \\\n",
    "                            .agg(format_number(round(mean('price'), 2), 2).alias('average_price')) \\\n",
    "                            .orderBy('date_built')\n",
    "    \n",
    "average_price_per_year_construction.show()"
   ]
  },
  {
   "cell_type": "code",
   "execution_count": 8,
   "metadata": {
    "colab": {
     "base_uri": "https://localhost:8080/"
    },
    "id": "GUrfgOX1pCRd",
    "outputId": "17c25774-855e-4290-a4bd-a04902bdc13a"
   },
   "outputs": [
    {
     "name": "stdout",
     "output_type": "stream",
     "text": [
      "+----+-------------+\n",
      "|view|average_price|\n",
      "+----+-------------+\n",
      "|   0|   403,848.51|\n",
      "|   1|   401,044.25|\n",
      "|  10|   401,868.43|\n",
      "| 100| 1,026,669.50|\n",
      "|  11|   399,548.12|\n",
      "|  12|   401,501.32|\n",
      "|  13|   398,917.98|\n",
      "|  14|   398,570.03|\n",
      "|  15|   404,673.30|\n",
      "|  16|   399,586.53|\n",
      "|  17|   398,474.49|\n",
      "|  18|   399,332.91|\n",
      "|  19|   398,953.17|\n",
      "|   2|   397,389.25|\n",
      "|  20|   399,522.81|\n",
      "|  21|   399,758.88|\n",
      "|  22|   402,022.68|\n",
      "|  23|   403,411.92|\n",
      "|  24|   400,284.92|\n",
      "|  25|   401,298.69|\n",
      "+----+-------------+\n",
      "only showing top 20 rows\n",
      "\n",
      "--- 0.20149922370910645 seconds ---\n"
     ]
    }
   ],
   "source": [
    "# 6. What is the \"view\" rating for the average price of a home, rounded to two decimal places, where the homes are greater than\n",
    "# or equal to $350,000? Although this is a small dataset, determine the run time for this query.\n",
    "start_time = time.time()\n",
    "\n",
    "home_filter = df.filter(df['price'] >= 350000)\n",
    "\n",
    "# Agrupar por la calificación de \"view\" y calcular el precio promedio\n",
    "average_price_per_view = home_filter.groupBy('view') \\\n",
    "                            .agg(format_number(avg('price'), 2).alias('average_price')) \\\n",
    "                            .orderBy('view')\n",
    "\n",
    "average_price_per_view.show()\n",
    "\n",
    "print(\"--- %s seconds ---\" % (time.time() - start_time))"
   ]
  },
  {
   "cell_type": "code",
   "execution_count": 9,
   "metadata": {
    "colab": {
     "base_uri": "https://localhost:8080/"
    },
    "id": "KAhk3ZD2tFy8",
    "outputId": "0a8f132d-40a8-4bd4-b5f2-2847e98427f5"
   },
   "outputs": [],
   "source": [
    "# 7. Cache the temporary table home_sales.\n",
    "spark.catalog.cacheTable('home_sales')"
   ]
  },
  {
   "cell_type": "code",
   "execution_count": 10,
   "metadata": {
    "colab": {
     "base_uri": "https://localhost:8080/"
    },
    "id": "4opVhbvxtL-i",
    "outputId": "38ec8487-795f-4550-b50c-fcc6f2b7c769"
   },
   "outputs": [
    {
     "data": {
      "text/plain": [
       "True"
      ]
     },
     "execution_count": 10,
     "metadata": {},
     "output_type": "execute_result"
    }
   ],
   "source": [
    "# 8. Check if the table is cached.\n",
    "spark.catalog.isCached('home_sales')"
   ]
  },
  {
   "cell_type": "code",
   "execution_count": 12,
   "metadata": {
    "colab": {
     "base_uri": "https://localhost:8080/"
    },
    "id": "5GnL46lwTSEk",
    "outputId": "09a16c73-194d-4371-95d1-ee64fe83b91c"
   },
   "outputs": [
    {
     "name": "stdout",
     "output_type": "stream",
     "text": [
      "+----+-------------+\n",
      "|view|average_price|\n",
      "+----+-------------+\n",
      "|   0|   403,848.51|\n",
      "|   1|   401,044.25|\n",
      "|  10|   401,868.43|\n",
      "| 100| 1,026,669.50|\n",
      "|  11|   399,548.12|\n",
      "|  12|   401,501.32|\n",
      "|  13|   398,917.98|\n",
      "|  14|   398,570.03|\n",
      "|  15|   404,673.30|\n",
      "|  16|   399,586.53|\n",
      "|  17|   398,474.49|\n",
      "|  18|   399,332.91|\n",
      "|  19|   398,953.17|\n",
      "|   2|   397,389.25|\n",
      "|  20|   399,522.81|\n",
      "|  21|   399,758.88|\n",
      "|  22|   402,022.68|\n",
      "|  23|   403,411.92|\n",
      "|  24|   400,284.92|\n",
      "|  25|   401,298.69|\n",
      "+----+-------------+\n",
      "only showing top 20 rows\n",
      "\n",
      "--- 0.10400032997131348 seconds ---\n"
     ]
    }
   ],
   "source": [
    "# 9. Using the cached data, run the query that filters out the view ratings with average price \n",
    "#  greater than or equal to $350,000. Determine the runtime and compare it to uncached runtime.\n",
    "\n",
    "start_time = time.time()\n",
    "\n",
    "filter_house_using_cache = spark.sql(\"\"\"\n",
    "    SELECT view, FORMAT_NUMBER(AVG(price), 2) as average_price \n",
    "    FROM home_sales \n",
    "    WHERE price >= 350000 \n",
    "    GROUP BY view \n",
    "    ORDER BY view\n",
    "\"\"\")\n",
    "filter_house_using_cache.show()\n",
    "\n",
    "print(\"--- %s seconds ---\" % (time.time() - start_time))\n",
    "\n",
    "# Delete table from cache\n",
    "# spark.catalog.uncacheTable('home_sales')"
   ]
  },
  {
   "cell_type": "code",
   "execution_count": 24,
   "metadata": {
    "id": "Qm12WN9isHBR"
   },
   "outputs": [],
   "source": [
    "# 10. Partition by the \"date_built\" field on the formatted parquet home sales data \n",
    "import os\n",
    "output_path = \"./save_data\"\n",
    "df.write.partitionBy(\"date_built\").parquet(output_path, mode='overwrite')"
   ]
  },
  {
   "cell_type": "code",
   "execution_count": 27,
   "metadata": {
    "id": "AZ7BgY61sRqY"
   },
   "outputs": [],
   "source": [
    "# 11. Read the formatted parquet data.\n",
    "p_df = spark.read.parquet('p_sales')"
   ]
  },
  {
   "cell_type": "code",
   "execution_count": 29,
   "metadata": {
    "id": "J6MJkHfvVcvh"
   },
   "outputs": [],
   "source": [
    "# 12. Create a temporary table for the parquet data.\n",
    "p_df.createOrReplaceTempView('p_sales')"
   ]
  },
  {
   "cell_type": "code",
   "execution_count": 32,
   "metadata": {
    "colab": {
     "base_uri": "https://localhost:8080/"
    },
    "id": "G_Vhb52rU1Sn",
    "outputId": "a0b8d0c4-55ed-4c6c-bfd8-4c8c5334838e"
   },
   "outputs": [
    {
     "name": "stdout",
     "output_type": "stream",
     "text": [
      "--- 0.04449868202209473 seconds ---\n"
     ]
    }
   ],
   "source": [
    "# 13. Run the query that filters out the view ratings with average price of greater than or eqaul to $350,000 \n",
    "# with the parquet DataFrame. Round your average to two decimal places. \n",
    "# Determine the runtime and compare it to the cached version. \n",
    "\n",
    "start_time = time.time()\n",
    "start_time = time.time()\n",
    "\n",
    "filter_house_using_parquet = spark.sql(\"\"\"\n",
    "    SELECT view, FORMAT_NUMBER(AVG(price), 2) as average_price \n",
    "    FROM p_sales \n",
    "    WHERE price >= 350000 \n",
    "    GROUP BY view \n",
    "    ORDER BY view\n",
    "\"\"\")\n",
    "\n",
    "print(\"--- %s seconds ---\" % (time.time() - start_time))"
   ]
  },
  {
   "cell_type": "code",
   "execution_count": null,
   "metadata": {
    "colab": {
     "base_uri": "https://localhost:8080/"
    },
    "id": "hjjYzQGjtbq8",
    "outputId": "830549fd-bb41-451b-9183-5ebf6e3e470b"
   },
   "outputs": [],
   "source": [
    "# 14. Uncache the home_sales temporary table.\n",
    "spark.catalog.uncacheTable('home_sales')"
   ]
  },
  {
   "cell_type": "code",
   "execution_count": null,
   "metadata": {
    "colab": {
     "base_uri": "https://localhost:8080/"
    },
    "id": "Sy9NBvO7tlmm",
    "outputId": "be73e0e3-5e85-4794-aad9-025fb6fa84a7"
   },
   "outputs": [],
   "source": [
    "# 15. Check if the home_sales is no longer cached\n",
    "is_cached = spark.catalog.isCached('home_sales')"
   ]
  },
  {
   "cell_type": "code",
   "execution_count": null,
   "metadata": {},
   "outputs": [],
   "source": []
  }
 ],
 "metadata": {
  "colab": {
   "collapsed_sections": [],
   "name": "Copy of Home_Sales_solution.ipynb",
   "provenance": []
  },
  "kernelspec": {
   "display_name": "Python 3 (ipykernel)",
   "language": "python",
   "name": "python3"
  },
  "language_info": {
   "codemirror_mode": {
    "name": "ipython",
    "version": 3
   },
   "file_extension": ".py",
   "mimetype": "text/x-python",
   "name": "python",
   "nbconvert_exporter": "python",
   "pygments_lexer": "ipython3",
   "version": "3.10.13"
  },
  "nteract": {
   "version": "0.28.0"
  }
 },
 "nbformat": 4,
 "nbformat_minor": 1
}
